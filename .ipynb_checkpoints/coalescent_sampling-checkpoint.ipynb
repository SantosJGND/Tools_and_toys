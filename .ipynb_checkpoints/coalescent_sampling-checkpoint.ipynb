{
 "cells": [
  {
   "cell_type": "code",
   "execution_count": 1,
   "metadata": {},
   "outputs": [
    {
     "data": {
      "text/html": [
       "        <script type=\"text/javascript\">\n",
       "        window.PlotlyConfig = {MathJaxConfig: 'local'};\n",
       "        if (window.MathJax) {MathJax.Hub.Config({SVG: {font: \"STIX-Web\"}});}\n",
       "        if (typeof require !== 'undefined') {\n",
       "        require.undef(\"plotly\");\n",
       "        requirejs.config({\n",
       "            paths: {\n",
       "                'plotly': ['https://cdn.plot.ly/plotly-latest.min']\n",
       "            }\n",
       "        });\n",
       "        require(['plotly'], function(Plotly) {\n",
       "            window._Plotly = Plotly;\n",
       "        });\n",
       "        }\n",
       "        </script>\n",
       "        "
      ]
     },
     "metadata": {},
     "output_type": "display_data"
    }
   ],
   "source": [
    "import numpy as np\n",
    "import itertools as it\n",
    "\n",
    "import allel\n",
    "import pandas as pd\n",
    "\n",
    "from _plotly_future_ import v4_subplots\n",
    "import plotly.graph_objs as go\n",
    "from plotly.offline import download_plotlyjs, init_notebook_mode, plot, iplot\n",
    "from plotly.graph_objs import *\n",
    "\n",
    "from ipywidgets import interact, interactive, fixed, interact_manual\n",
    "import ipywidgets as widgets\n",
    "init_notebook_mode(connected=True)\n",
    "\n",
    "from datetime import datetime\n",
    "\n",
    "import collections\n",
    "def recursively_default_dict():\n",
    "    return collections.defaultdict(recursively_default_dict)\n",
    "\n",
    "import matplotlib\n",
    "matplotlib.use('Agg')\n",
    "\n",
    "import matplotlib.pyplot as plt"
   ]
  },
  {
   "cell_type": "markdown",
   "metadata": {},
   "source": [
    "## The coalescent and sampling.\n",
    "\n",
    "\n",
    "### Requirements\n",
    "\n",
    "    - effective population size per generation;\n",
    "    - number of generations;\n",
    "    - scaled mutation rate.\n",
    "    \n",
    "   \n",
    "### Index\n",
    "\n",
    "#### I. Model assumptions.\n",
    "\n",
    "#### II. Coalescent simulations.\n",
    "\n",
    "#### III. Deployment across models. \n",
    "\n",
    "#### IV. Variance analysis. \n",
    "\n",
    "\n",
    "### I. Model assumptions.\n",
    "\n",
    "**Demographics**\n",
    "\n",
    "We will deal with terminal branches only. \n",
    "\n",
    "We're going to go with populations of species X, for which models have been proposed.\n",
    "see model dict below. `pop` dictionaries contain model parameters per population specifc branches:\n",
    "\n",
    "- `N`: Population effective size;\n",
    "- `T`: Branch length\n"
   ]
  },
  {
   "cell_type": "code",
   "execution_count": 2,
   "metadata": {},
   "outputs": [],
   "source": [
    "model_dict= {\n",
    "        'schweinfurthii': {\n",
    "            'N':10528, \n",
    "            'T':17925\n",
    "        },\n",
    "        'troglodytes': {\n",
    "            'N': 72001, \n",
    "            'T': 17925\n",
    "            },\n",
    "        'ellioti': {\n",
    "            'N': 6033,\n",
    "            'T': 33402\n",
    "        },\n",
    "        'verus': {\n",
    "            'N': 5710,\n",
    "            'T': 33402\n",
    "        }\n",
    "}"
   ]
  },
  {
   "cell_type": "markdown",
   "metadata": {},
   "source": [
    "**mutations** \n",
    "\n",
    "We re going to refer here to coalescent theory. Our objective will not concern statistics on observed data, but simulations. For this we will rely on the notebook [Simulations](https://nbviewer.jupyter.org/github/SantosJGND/Coalescent/blob/master/Simulations.ipynb), section **Algorithms for simulating sequence evolution**,  from this [repository](https://github.com/SantosJGND/Coalescent) focused on coalescent explorations in python.\n",
    "\n",
    "\n",
    "To keep it simple we will consider in this notebook a single simulation. \n",
    "\n",
    "Given :\n",
    "- time;\n",
    "- effective population size;\n",
    "- scaled mutation rate;\n",
    "\n",
    "we draw the number of expected mutations emerging in our branch of interest until the present. "
   ]
  },
  {
   "cell_type": "markdown",
   "metadata": {},
   "source": [
    "## II. Simulations. Coalescent given number of samples.\n",
    "\n",
    "We use a procedure of coalescent simulation given the number of samples. We extract per simulation the number of mutations simulated that are more recent than the MRCA of this branch. See the notebook above for a visual inspection of the output of the simulation procedure. We will use the function SimIII from that notebook, modified here for our purposes. \n",
    "\n",
    "We first chose a model from the dictionary above. \n"
   ]
  },
  {
   "cell_type": "code",
   "execution_count": 3,
   "metadata": {},
   "outputs": [],
   "source": [
    "pop_select= 'schweinfurthii'"
   ]
  },
  {
   "cell_type": "markdown",
   "metadata": {},
   "source": [
    "We begin with a simple example: the number of private mutations expected expected in a sample of size `k` of haplotypes of size `seqL`, given an estimate of mutation rate per generation per base pair `muNuc`.\n",
    "\n",
    "From this input we calculate the parameters `mu`, the expected mutation rate per generation and `theta`, the Watterson estimator of population genetic diversity. "
   ]
  },
  {
   "cell_type": "code",
   "execution_count": 4,
   "metadata": {},
   "outputs": [],
   "source": [
    "muNuc= 1.08e-8\n",
    "seqL= 1e6\n",
    "\n",
    "mu= muNuc * seqL\n",
    "Ne= model_dict[pop_select][\"N\"]\n",
    "k= 100 # Number of samples\n",
    "Theta= 4 * Ne * mu\n"
   ]
  },
  {
   "cell_type": "markdown",
   "metadata": {},
   "source": [
    "We now perform coalescent simulations. This returns a network containing coalescent and mutation events from present haplotypes to their MRCA (function `SimIII`). Each event has an associated time stamp. We use the function `get_PA` to extract the time stamps of mutation events more recent than the branch of interest. "
   ]
  },
  {
   "cell_type": "code",
   "execution_count": 7,
   "metadata": {},
   "outputs": [
    {
     "name": "stdout",
     "output_type": "stream",
     "text": [
      "number of private alleles obtained: 1554\n"
     ]
    }
   ],
   "source": [
    "from tools.coal_sims import SimIII, get_PA\n",
    "\n",
    "sim_keys, leaves, edges= SimIII(k= k, Theta= Theta)\n",
    "\n",
    "branch_len= model_dict[pop_select]['T']\n",
    "MRCA= branch_len / Ne / 2\n",
    "\n",
    "PA_obtain= get_PA(leaves,Ne,MRCA)\n",
    "print('number of private alleles obtained: {}'.format(len(PA_obtain)))"
   ]
  },
  {
   "cell_type": "markdown",
   "metadata": {},
   "source": [
    "#### get results across sample sizes\n",
    "\n",
    "We now move to obtain results for a range of sample sizes. \n",
    "\n",
    "A number of repeats is performed per sample size, simulations are probablistic."
   ]
  },
  {
   "cell_type": "code",
   "execution_count": null,
   "metadata": {},
   "outputs": [],
   "source": [
    "Nreps= 50\n",
    "sample_range= [2,500]\n",
    "Nsteps= 20\n",
    "\n",
    "range_use= np.linspace(*sample_range,Nsteps)\n",
    "Nstudy_dict= {int(z):[] for z in range_use}\n",
    "\n",
    "for si in range_use:\n",
    "    k= int(si)\n",
    "    for nr in range(Nreps):\n",
    "        \n",
    "        sim_keys, leaves, edges= SimIII(k= k, Theta= Theta)\n",
    "        \n",
    "        PA_obtain= get_PA(leaves,Ne,MRCA)\n",
    "        \n",
    "        Nstudy_dict[k].append(len(PA_obtain))\n",
    "        "
   ]
  },
  {
   "cell_type": "markdown",
   "metadata": {},
   "source": [
    "The number of private alleles sampled is plotted against sample size. "
   ]
  },
  {
   "cell_type": "code",
   "execution_count": null,
   "metadata": {},
   "outputs": [],
   "source": [
    "stats_dict= {\n",
    "    z: {\n",
    "        'mean': np.mean(g),\n",
    "        'std': np.std(g)\n",
    "    } for z,g in Nstudy_dict.items()\n",
    "}\n",
    "\n",
    "samp_order= sorted(Nstudy_dict.keys())\n",
    "\n",
    "fig= [go.Scatter(\n",
    "    x= samp_order,\n",
    "    y= [stats_dict[x]['mean'] for x in samp_order],\n",
    "    error_y= dict(\n",
    "        array= [stats_dict[x]['std'] for x in samp_order],\n",
    "        type= 'data',\n",
    "        #symmetric= True,\n",
    "        visible=True\n",
    "    )\n",
    ")]\n",
    "\n",
    "layout= go.Layout(\n",
    "    title= pop_select,\n",
    "    xaxis= dict(\n",
    "        title= 'Nsamp'\n",
    "    ),\n",
    "    yaxis= dict(\n",
    "        title= 'private alleles'\n",
    "    )\n",
    ")\n",
    "\n",
    "Figure= go.Figure(data=fig, layout= layout)\n",
    "iplot(Figure)"
   ]
  },
  {
   "cell_type": "markdown",
   "metadata": {},
   "source": [
    "### III. Deployment. Across populations:\n",
    "\n",
    "We now scale this approach to cover all branches in `model_dict`. \n",
    "\n",
    "**common parameters**"
   ]
  },
  {
   "cell_type": "code",
   "execution_count": null,
   "metadata": {},
   "outputs": [],
   "source": [
    "### biological parameters\n",
    "muNuc= 1.08e-8\n",
    "seqL= 1e6\n",
    "mu= muNuc * seqL\n",
    "\n",
    "## sampling parameters\n",
    "Nreps= 10\n",
    "sample_range= [2,100]\n",
    "Nsteps= 30\n",
    "range_use= np.linspace(*sample_range,Nsteps)"
   ]
  },
  {
   "cell_type": "markdown",
   "metadata": {},
   "source": [
    "**deployment**"
   ]
  },
  {
   "cell_type": "code",
   "execution_count": null,
   "metadata": {},
   "outputs": [],
   "source": [
    "pops_dict= {}\n",
    "study_dict= {}\n",
    "\n",
    "for pop_select in model_dict.keys():\n",
    "    Ne= model_dict[pop_select][\"N\"]\n",
    "    \n",
    "    Theta= 4 * Ne * mu\n",
    "    \n",
    "    branch_len= model_dict[pop_select]['T']\n",
    "    MRCA= branch_len / Ne / 2\n",
    "\n",
    "    Nstudy_dict= {int(z):[] for z in range_use}\n",
    "\n",
    "    for si in range_use:\n",
    "        k= int(si)\n",
    "        for nr in range(Nreps):\n",
    "\n",
    "            sim_keys, leaves, edges= SimIII(k= k, Theta= Theta)\n",
    "\n",
    "            PA_obtain= get_PA(leaves,Ne,MRCA)\n",
    "\n",
    "            Nstudy_dict[k].append(len(PA_obtain))\n",
    "    \n",
    "    stats_dict= {\n",
    "        z: {\n",
    "            'mean': np.mean(g),\n",
    "            'std': np.std(g)\n",
    "        } for z,g in Nstudy_dict.items()\n",
    "    }\n",
    "    samp_order= sorted(Nstudy_dict.keys())\n",
    "    \n",
    "    pops_dict[pop_select]= stats_dict\n",
    "    study_dict[pop_select]= Nstudy_dict\n"
   ]
  },
  {
   "cell_type": "markdown",
   "metadata": {},
   "source": [
    "**plot**"
   ]
  },
  {
   "cell_type": "code",
   "execution_count": null,
   "metadata": {},
   "outputs": [],
   "source": [
    "fig= [go.Scatter(\n",
    "    x= samp_order,\n",
    "    y= [pops_dict[pop][x]['mean'] for x in samp_order],\n",
    "    error_y= dict(\n",
    "        array= [pops_dict[pop][x]['std'] for x in samp_order],\n",
    "        type= 'data',\n",
    "        #symmetric= True,\n",
    "        visible=True\n",
    "    ),\n",
    "    name= pop\n",
    ") for pop in model_dict.keys()]\n",
    "\n",
    "layout= go.Layout(\n",
    "    title= 'pop comparison',\n",
    "    xaxis= dict(\n",
    "        title= 'Nsamp'\n",
    "    ),\n",
    "    yaxis= dict(\n",
    "        title= '# of private alleles'\n",
    "    ),\n",
    "    height= 950,\n",
    "    width= 950\n",
    ")\n",
    "\n",
    "Figure= go.Figure(data=fig, layout= layout)\n",
    "iplot(Figure)"
   ]
  },
  {
   "cell_type": "markdown",
   "metadata": {},
   "source": [
    "### III. Variance in count / frequency statistics.\n",
    "\n",
    "Some statistics of interest can depend on the number of mutations found in a sample. \n",
    "\n",
    "This is the case if mutations are characterised in any way, creating factors. If we are interested in ascertaining the true value of the size of each class in a population, than the variance in our observations are dependent on the number of samples. \n",
    "\n",
    "We investigate the impact of sampling haplotypes from model populations on estimator variance. \n",
    "\n",
    "We are going to assume that count numbers per sample size behave normally and extract posterior distributions from our simulated data this way. \n",
    "\n",
    "\n",
    "We begin by considering the variance around a single class. We set the expected proportion of that class in final counts to be `Pc`. We assum the proportion of cases of this class sampled will behave as a binomial variable of mean equals `Pc`, `n`  the sample size.\n",
    "\n",
    "\n",
    "We extract two statistics:\n",
    "\n",
    "- variance in proportion: `var_calc` and `var_samp`, obtained analytically and through sampling with `Nreps_II` replicates (bellow) under the assumptions stated above respectively.\n",
    "\n",
    "- differences to expecation: `diffs`, the difference between expected and observed proportions when sampling.\n",
    "\n",
    "\n",
    "#### i. Calc\n",
    "\n",
    "Using data sampled above."
   ]
  },
  {
   "cell_type": "code",
   "execution_count": null,
   "metadata": {},
   "outputs": [],
   "source": [
    "from scipy.stats import norm\n",
    "from scipy.stats import binom\n",
    "\n",
    "Pc= 1 / 96\n",
    "Nreps_II= 10\n",
    "\n",
    "syndicate_dict= {\n",
    "    z: {k: {} for k in g.keys()} for z,g in study_dict.items()\n",
    "}\n",
    "\n",
    "for pop_select in study_dict.keys():\n",
    "    \n",
    "    for si,sim_extract in study_dict[pop_select].items():\n",
    "        size= int(si)\n",
    "        \n",
    "        pop_loc= pops_dict[pop_select][si]['mean']\n",
    "        pop_scale= pops_dict[pop_select][si]['std']\n",
    "        \n",
    "        ## here the normal assumption is made\n",
    "        sim_extract= norm.rvs(loc= pop_loc,scale= pop_scale,size= Nreps)\n",
    "        sim_extract= np.array(sim_extract,dtype= int)\n",
    "        sim_extract= sim_extract[sim_extract > 0]\n",
    "        varA= []\n",
    "        store_var= []\n",
    "        store_diffs= []\n",
    "        \n",
    "        for nr in sim_extract:\n",
    "            ## extract expected variance in proportion\n",
    "            var_calc= nr * Pc * (1 - Pc)\n",
    "            var_calc= np.sqrt(var_calc) / nr\n",
    "            \n",
    "            ## sample proportions assuming binomial behavior\n",
    "            var_samp= binom.rvs(nr,Pc,size= Nreps_II)\n",
    "            prop_vec= var_samp / nr\n",
    "            \n",
    "            ## proportion std and difference to expectation.\n",
    "            prop_var= np.std(prop_vec)\n",
    "            prop_diffs= Pc - prop_vec\n",
    "            \n",
    "            varA.append(var_calc)\n",
    "            store_var.append(prop_var)\n",
    "            store_diffs.extend(prop_diffs)\n",
    "        \n",
    "        syndicate_dict[pop_select][si]= {\n",
    "            'var_calc': varA,\n",
    "            'var_samp': store_var,\n",
    "            'diffs': store_diffs\n",
    "        }\n",
    "\n"
   ]
  },
  {
   "cell_type": "markdown",
   "metadata": {},
   "source": [
    "#### ii. Plot. \n",
    "\n",
    "Interactive plots are not readable through NBviewer."
   ]
  },
  {
   "cell_type": "code",
   "execution_count": null,
   "metadata": {},
   "outputs": [],
   "source": [
    "## Var\n",
    "var_select= 'var_calc'\n",
    "\n",
    "fig= [go.Scatter(\n",
    "    x= samp_order,\n",
    "    y= [np.nanmean(syndicate_dict[pop][x][var_select]) for x in samp_order],\n",
    "    error_y= dict(\n",
    "        array= [np.nanstd(syndicate_dict[pop][x][var_select]) for x in samp_order],\n",
    "        type= 'data',\n",
    "        #symmetric= True,\n",
    "        visible=True\n",
    "    ),\n",
    "    name= pop\n",
    ") for pop in syndicate_dict.keys()]\n",
    "\n",
    "layout= go.Layout(\n",
    "    title=  'stat = {}'.format(var_select),\n",
    "    xaxis= dict(\n",
    "        title= 'Nsamp'\n",
    "    ),\n",
    "    yaxis= dict(\n",
    "        title= var_select\n",
    "    )\n",
    ")\n",
    "\n",
    "Figure= go.Figure(data=fig, layout= layout)\n",
    "iplot(Figure)"
   ]
  },
  {
   "cell_type": "code",
   "execution_count": null,
   "metadata": {},
   "outputs": [],
   "source": [
    "## Var\n",
    "var_select= 'var_samp'\n",
    "\n",
    "fig= [go.Scatter(\n",
    "    x= samp_order,\n",
    "    y= [np.nanmean(syndicate_dict[pop][x][var_select]) for x in samp_order],\n",
    "    error_y= dict(\n",
    "        array= [np.nanstd(syndicate_dict[pop][x][var_select]) for x in samp_order],\n",
    "        type= 'data',\n",
    "        #symmetric= True,\n",
    "        visible=True\n",
    "    ),\n",
    "    name= pop\n",
    ") for pop in syndicate_dict.keys()]\n",
    "\n",
    "layout= go.Layout(\n",
    "    title=  'stat = {}'.format(var_select),\n",
    "    xaxis= dict(\n",
    "        title= 'Nsamp'\n",
    "    ),\n",
    "    yaxis= dict(\n",
    "        title= var_select\n",
    "    )\n",
    ")\n",
    "\n",
    "Figure= go.Figure(data=fig, layout= layout)\n",
    "iplot(Figure)"
   ]
  },
  {
   "cell_type": "code",
   "execution_count": null,
   "metadata": {},
   "outputs": [],
   "source": [
    "## Var\n",
    "var_select= 'diffs'\n",
    "\n",
    "fig= [go.Scatter(\n",
    "    x= samp_order,\n",
    "    y= [np.nanmean(syndicate_dict[pop][x][var_select]) for x in samp_order],\n",
    "    error_y= dict(\n",
    "        array= [np.nanstd(syndicate_dict[pop][x][var_select]) for x in samp_order],\n",
    "        type= 'data',\n",
    "        #symmetric= True,\n",
    "        visible=True\n",
    "    ),\n",
    "    name= pop\n",
    ") for pop in syndicate_dict.keys()]\n",
    "\n",
    "layout= go.Layout(\n",
    "    title=  'stat = {}'.format(var_select),\n",
    "    xaxis= dict(\n",
    "        title= 'Nsamp'\n",
    "    ),\n",
    "    yaxis= dict(\n",
    "        title= var_select\n",
    "    )\n",
    ")\n",
    "\n",
    "Figure= go.Figure(data=fig, layout= layout)\n",
    "iplot(Figure)"
   ]
  },
  {
   "cell_type": "code",
   "execution_count": null,
   "metadata": {},
   "outputs": [],
   "source": []
  }
 ],
 "metadata": {
  "kernelspec": {
   "display_name": "Python 3",
   "language": "python",
   "name": "python3"
  },
  "language_info": {
   "codemirror_mode": {
    "name": "ipython",
    "version": 3
   },
   "file_extension": ".py",
   "mimetype": "text/x-python",
   "name": "python",
   "nbconvert_exporter": "python",
   "pygments_lexer": "ipython3",
   "version": "3.7.3"
  }
 },
 "nbformat": 4,
 "nbformat_minor": 2
}

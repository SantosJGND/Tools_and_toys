{
 "cells": [
  {
   "cell_type": "code",
   "execution_count": 1,
   "metadata": {},
   "outputs": [
    {
     "data": {
      "text/html": [
       "<script type=\"text/javascript\">window.PlotlyConfig = {MathJaxConfig: 'local'};</script><script type=\"text/javascript\">if (window.MathJax) {MathJax.Hub.Config({SVG: {font: \"STIX-Web\"}});}</script><script>requirejs.config({paths: { 'plotly': ['https://cdn.plot.ly/plotly-latest.min']},});if(!window._Plotly) {require(['plotly'],function(plotly) {window._Plotly=plotly;});}</script>"
      ],
      "text/vnd.plotly.v1+html": [
       "<script type=\"text/javascript\">window.PlotlyConfig = {MathJaxConfig: 'local'};</script><script type=\"text/javascript\">if (window.MathJax) {MathJax.Hub.Config({SVG: {font: \"STIX-Web\"}});}</script><script>requirejs.config({paths: { 'plotly': ['https://cdn.plot.ly/plotly-latest.min']},});if(!window._Plotly) {require(['plotly'],function(plotly) {window._Plotly=plotly;});}</script>"
      ]
     },
     "metadata": {},
     "output_type": "display_data"
    }
   ],
   "source": [
    "import scipy\n",
    "import numpy as np\n",
    "import pandas as pd\n",
    "import itertools as it\n",
    "\n",
    "import collections\n",
    "\n",
    "def recursively_default_dict():\n",
    "        return collections.defaultdict(recursively_default_dict)\n",
    "\n",
    "from sklearn.neighbors import KernelDensity\n",
    "from sklearn.decomposition import PCA\n",
    "from sklearn.model_selection import GridSearchCV\n",
    "from sklearn.cluster import MeanShift, estimate_bandwidth\n",
    "\n",
    "from scipy.stats import invgamma \n",
    "from scipy.stats import beta\n",
    "\n",
    "import plotly\n",
    "import plotly.plotly as py\n",
    "import plotly.graph_objs as go\n",
    "from plotly.offline import download_plotlyjs, init_notebook_mode, plot, iplot\n",
    "from plotly.graph_objs import *\n",
    "import plotly.figure_factory as ff\n",
    "\n",
    "from IPython.display import clear_output\n",
    "\n",
    "from ipywidgets import interact, interactive, fixed, interact_manual\n",
    "import ipywidgets as widgets\n",
    "init_notebook_mode(connected=True)\n"
   ]
  },
  {
   "cell_type": "code",
   "execution_count": 2,
   "metadata": {},
   "outputs": [
    {
     "data": {
      "text/html": [
       "<div>\n",
       "<style scoped>\n",
       "    .dataframe tbody tr th:only-of-type {\n",
       "        vertical-align: middle;\n",
       "    }\n",
       "\n",
       "    .dataframe tbody tr th {\n",
       "        vertical-align: top;\n",
       "    }\n",
       "\n",
       "    .dataframe thead th {\n",
       "        text-align: right;\n",
       "    }\n",
       "</style>\n",
       "<table border=\"1\" class=\"dataframe\">\n",
       "  <thead>\n",
       "    <tr style=\"text-align: right;\">\n",
       "      <th></th>\n",
       "      <th>Unnamed: 0</th>\n",
       "      <th>ID</th>\n",
       "      <th>NAME</th>\n",
       "      <th>COUNTRY</th>\n",
       "      <th>REGION</th>\n",
       "      <th>sNMF_K3</th>\n",
       "      <th>Jap_K4</th>\n",
       "      <th>K9_cluster</th>\n",
       "      <th>Initial_subpop</th>\n",
       "      <th>genoIndex</th>\n",
       "      <th>code</th>\n",
       "      <th>label</th>\n",
       "    </tr>\n",
       "  </thead>\n",
       "  <tbody>\n",
       "    <tr>\n",
       "      <th>0</th>\n",
       "      <td>0</td>\n",
       "      <td>CX59</td>\n",
       "      <td>MILAGROSA,_ZAWA_BANDAY</td>\n",
       "      <td>Philippines</td>\n",
       "      <td>As5</td>\n",
       "      <td>4</td>\n",
       "      <td>1</td>\n",
       "      <td>cB_(Bas)</td>\n",
       "      <td>aro</td>\n",
       "      <td>296</td>\n",
       "      <td>4</td>\n",
       "      <td>aro</td>\n",
       "    </tr>\n",
       "    <tr>\n",
       "      <th>1</th>\n",
       "      <td>1</td>\n",
       "      <td>CX65</td>\n",
       "      <td>DOMSIAH</td>\n",
       "      <td>Iran</td>\n",
       "      <td>As1</td>\n",
       "      <td>4</td>\n",
       "      <td>1</td>\n",
       "      <td>cB_(Bas)</td>\n",
       "      <td>aro</td>\n",
       "      <td>301</td>\n",
       "      <td>4</td>\n",
       "      <td>aro</td>\n",
       "    </tr>\n",
       "    <tr>\n",
       "      <th>2</th>\n",
       "      <td>2</td>\n",
       "      <td>CX67</td>\n",
       "      <td>BINAM</td>\n",
       "      <td>Iran</td>\n",
       "      <td>As1</td>\n",
       "      <td>4</td>\n",
       "      <td>1</td>\n",
       "      <td>cB_(Bas)</td>\n",
       "      <td>aro</td>\n",
       "      <td>303</td>\n",
       "      <td>4</td>\n",
       "      <td>aro</td>\n",
       "    </tr>\n",
       "    <tr>\n",
       "      <th>3</th>\n",
       "      <td>3</td>\n",
       "      <td>CX104</td>\n",
       "      <td>SADRI_RICE_1</td>\n",
       "      <td>Iran</td>\n",
       "      <td>As1</td>\n",
       "      <td>4</td>\n",
       "      <td>1</td>\n",
       "      <td>cB_(Bas)</td>\n",
       "      <td>aro</td>\n",
       "      <td>338</td>\n",
       "      <td>4</td>\n",
       "      <td>aro</td>\n",
       "    </tr>\n",
       "    <tr>\n",
       "      <th>4</th>\n",
       "      <td>4</td>\n",
       "      <td>CX143</td>\n",
       "      <td>KHASAR</td>\n",
       "      <td>Iran</td>\n",
       "      <td>As1</td>\n",
       "      <td>4</td>\n",
       "      <td>1</td>\n",
       "      <td>cB_(Bas)</td>\n",
       "      <td>aro</td>\n",
       "      <td>372</td>\n",
       "      <td>4</td>\n",
       "      <td>aro</td>\n",
       "    </tr>\n",
       "  </tbody>\n",
       "</table>\n",
       "</div>"
      ],
      "text/plain": [
       "   Unnamed: 0     ID                    NAME      COUNTRY REGION  sNMF_K3  \\\n",
       "0           0   CX59  MILAGROSA,_ZAWA_BANDAY  Philippines    As5        4   \n",
       "1           1   CX65                 DOMSIAH         Iran    As1        4   \n",
       "2           2   CX67                   BINAM         Iran    As1        4   \n",
       "3           3  CX104            SADRI_RICE_1         Iran    As1        4   \n",
       "4           4  CX143                  KHASAR         Iran    As1        4   \n",
       "\n",
       "   Jap_K4 K9_cluster Initial_subpop  genoIndex  code label  \n",
       "0       1   cB_(Bas)            aro        296     4   aro  \n",
       "1       1   cB_(Bas)            aro        301     4   aro  \n",
       "2       1   cB_(Bas)            aro        303     4   aro  \n",
       "3       1   cB_(Bas)            aro        338     4   aro  \n",
       "4       1   cB_(Bas)            aro        372     4   aro  "
      ]
     },
     "execution_count": 2,
     "metadata": {},
     "output_type": "execute_result"
    }
   ],
   "source": [
    "Home= ''\n",
    "ID= 'AMOVA_rand'\n",
    "suf_file= '_KDE_pca'\n",
    "\n",
    "df = pd.read_csv(Home + ID + suf_file + '.txt',sep= '\\t')\n",
    "orderCore= pd.read_csv(Home + 'Order_core.txt',sep= '\\t')\n",
    "\n",
    "orderCore.head()"
   ]
  },
  {
   "cell_type": "code",
   "execution_count": 3,
   "metadata": {},
   "outputs": [
    {
     "data": {
      "application/vnd.jupyter.widget-view+json": {
       "model_id": "a10e240f584d4acbab1833e24b0d4295",
       "version_major": 2,
       "version_minor": 0
      },
      "text/html": [
       "<p>Failed to display Jupyter Widget of type <code>interactive</code>.</p>\n",
       "<p>\n",
       "  If you're reading this message in the Jupyter Notebook or JupyterLab Notebook, it may mean\n",
       "  that the widgets JavaScript is still loading. If this message persists, it\n",
       "  likely means that the widgets JavaScript library is either not installed or\n",
       "  not enabled. See the <a href=\"https://ipywidgets.readthedocs.io/en/stable/user_install.html\">Jupyter\n",
       "  Widgets Documentation</a> for setup instructions.\n",
       "</p>\n",
       "<p>\n",
       "  If you're reading this message in another frontend (for example, a static\n",
       "  rendering on GitHub or <a href=\"https://nbviewer.jupyter.org/\">NBViewer</a>),\n",
       "  it may mean that your frontend doesn't currently support widgets.\n",
       "</p>\n"
      ],
      "text/plain": [
       "interactive(children=(Dropdown(description='pc1', options=(1, 2, 3, 4, 5, 6), value=1), Dropdown(description='pc2', options=(2, 3, 4, 5, 6), value=2), Output()), _dom_classes=('widget-interact',))"
      ]
     },
     "metadata": {},
     "output_type": "display_data"
    },
    {
     "data": {
      "text/plain": [
       "<function __main__.plot_accessions>"
      ]
     },
     "execution_count": 3,
     "metadata": {},
     "output_type": "execute_result"
    }
   ],
   "source": [
    "### plot loadings:\n",
    "\n",
    "def plot_accessions(pc1,pc2):\n",
    "    \n",
    "    layout= go.Layout(\n",
    "        title= 'Analysis: {}, MS structure'.format(ID),\n",
    "        xaxis= dict(\n",
    "            title= 'PC{}'.format(pc1),\n",
    "        ),\n",
    "        yaxis= dict(\n",
    "            title= 'PC{}'.format(pc2),\n",
    "        ),\n",
    "        showlegend= True\n",
    "        )\n",
    "    names_index = [[f for f in orderCore.ID].index(x) for x in [str(y) for y in df.id]]\n",
    "    opac= .8\n",
    "    soiz= 8\n",
    "\n",
    "    scheme = [int(orderCore.sNMF_K3[x]) for x in names_index]\n",
    "    coords = {y:[x for x in range(len(scheme)) if scheme[x] == y and x in names_index] for y in list(set(scheme))}\n",
    "\n",
    "    pop_refs= [\"Indica\",\"cAus\",\"Japonica\",\"GAP\",\"cBasmati\",\"Admix\"]\n",
    "    color_here= [\"red\",\"yellow\",\"blue\",\"silver\",\"green\",\"purple\"]\n",
    "\n",
    "    fig= [go.Scatter(\n",
    "    x = df.iloc[coords[i],pc1],\n",
    "    y = df.iloc[coords[i],pc2],\n",
    "    mode= \"markers\",\n",
    "    text= orderCore.iloc[[names_index[x] for x in coords[i]],:][[\"ID\",\"NAME\",\"COUNTRY\",\"Initial_subpop\"]].apply(lambda lbgf: (\n",
    "  \"<b>{}</b><br>Name: {}<br>Country: {}<br>{}\".format(lbgf[0],lbgf[1],lbgf[2],lbgf[3])),\n",
    "    axis= 1),\n",
    "    marker= {\n",
    "    'color': color_here[i],\n",
    "    'line': {'width': 0},\n",
    "    'size': soiz,\n",
    "    'symbol': 'circle',\n",
    "      \"opacity\": opac\n",
    "      },\n",
    "      name= pop_refs[i]\n",
    "    ) for i in list(set(scheme)) if coords[i]]\n",
    "                \n",
    "    fig = go.Figure(data=fig,layout= layout)\n",
    "    iplot(fig)\n",
    "\n",
    "interact(plot_accessions,pc1= [x + 1 for x in range(df.shape[1])],pc2=[x + 1 for x in range(1,df.shape[1])]) "
   ]
  },
  {
   "cell_type": "code",
   "execution_count": null,
   "metadata": {},
   "outputs": [],
   "source": []
  }
 ],
 "metadata": {
  "kernelspec": {
   "display_name": "Python 3",
   "language": "python",
   "name": "python3"
  },
  "language_info": {
   "codemirror_mode": {
    "name": "ipython",
    "version": 3
   },
   "file_extension": ".py",
   "mimetype": "text/x-python",
   "name": "python",
   "nbconvert_exporter": "python",
   "pygments_lexer": "ipython3",
   "version": "3.6.3"
  }
 },
 "nbformat": 4,
 "nbformat_minor": 2
}
